{
 "cells": [
  {
   "cell_type": "code",
   "execution_count": 170,
   "metadata": {},
   "outputs": [],
   "source": [
    "# В петреле есть проблема подгрузки разломов Seiswork fault sticks (ASCII). \n",
    "# В случае экспорта multiple features из seiswork стики принадлежащие одному разлому раcположены хаотически внутри\n",
    "                                                                                              #   текстового файла\n",
    "# При загрузке в Петрель они загружается как куча отдельных разломов с одинаковым именем\n",
    "# Данный скрипт группирует все стики по имени внутри одного файла оставляя порядок точек 1-2-...-2-3 внутри каждого стика\n",
    "# При загрузке Петрель требует символы с которых начинаются конкретные столбцы, вот они: \n",
    "\n",
    "            ##  X value ends after character no:       10\n",
    "                \n",
    "            ##  Y-value ends after character no:       22\n",
    "                \n",
    "            ##  Z-value ends after character no:       31\n",
    "            \n",
    "            ## Point number starts after character no: 37 \n",
    "            \n",
    "            ## Point number ends after character no:   38\n",
    "            \n",
    "            ## Name ends after character no:           44\n",
    "def faults_to_petrel(inp,out='result.dat'):\n",
    "    import pandas as pd\n",
    "    df=pd.read_csv(inp,skipinitialspace=True,sep=' ',usecols=range(0,11),names=['x','y','z','no_idea','no_idea_2','name','1','2','3','4','5'])\n",
    "    df['point']=df['name'].str[0]\n",
    "    df['name']=df['name'].str[1:]\n",
    "    df['x'] = df['x'].apply(lambda val: '{:0<10}'.format(val))\n",
    "    df['y'] = df['y'].apply(lambda val: '{:0<11}'.format(val))\n",
    "    df['z'] = df['z'].apply(lambda val: '{:0<8}'.format(val))\n",
    "    df['no_idea'] = df['no_idea'].apply(lambda val: '{:0<2}'.format(val))\n",
    "\n",
    "    result_df=pd.DataFrame(columns=df.columns)\n",
    "    for name,group in df.groupby('name'):\n",
    "        result_df=result_df.append(group.copy())\n",
    "    result_df['name']=result_df['point']+result_df['name']\n",
    "    result_df.to_csv('result.csv',sep=' ',index=False,header=False)\n",
    "    print('Done!')"
   ]
  },
  {
   "cell_type": "code",
   "execution_count": 169,
   "metadata": {},
   "outputs": [
    {
     "name": "stdout",
     "output_type": "stream",
     "text": [
      "Done!\n"
     ]
    }
   ],
   "source": [
    "faults_to_petrel('faults_S_Lunsk.dat')"
   ]
  },
  {
   "cell_type": "code",
   "execution_count": null,
   "metadata": {},
   "outputs": [],
   "source": []
  }
 ],
 "metadata": {
  "kernelspec": {
   "display_name": "Python 3",
   "language": "python",
   "name": "python3"
  },
  "language_info": {
   "codemirror_mode": {
    "name": "ipython",
    "version": 3
   },
   "file_extension": ".py",
   "mimetype": "text/x-python",
   "name": "python",
   "nbconvert_exporter": "python",
   "pygments_lexer": "ipython3",
   "version": "3.7.4"
  }
 },
 "nbformat": 4,
 "nbformat_minor": 2
}
