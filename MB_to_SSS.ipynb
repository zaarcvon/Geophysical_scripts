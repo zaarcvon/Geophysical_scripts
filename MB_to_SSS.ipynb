{
 "cells": [
  {
   "cell_type": "code",
   "execution_count": 181,
   "id": "59897d90-d3be-4bea-8d21-0c6d29530420",
   "metadata": {
    "tags": []
   },
   "outputs": [],
   "source": [
    "import rasterio\n",
    "from rasterio.mask import mask\n",
    "import geopandas as gpd\n",
    "import matplotlib.pyplot as plt\n",
    "from shapely.geometry import LineString, Point, mapping\n",
    "from scipy.ndimage import distance_transform_edt, sobel\n",
    "from rasterio.features import geometry_mask\n",
    "\n",
    "\n",
    "import numpy as np \n",
    "# Load the shapefile with the polygon\n",
    "shapefile_path = \"crop.shp\"\n",
    "shapefile = gpd.read_file(shapefile_path)\n",
    "\n",
    "# Load the GeoTIFF\n",
    "geotiff_path = \"36N_50m.tif\"\n",
    "with rasterio.open(geotiff_path) as src:\n",
    "    # Reproject shapefile to match the GeoTIFF CRS if necessary\n",
    "    if shapefile.crs != src.crs:\n",
    "        shapefile = shapefile.to_crs(src.crs)\n",
    "\n",
    "    # Get the geometry from the shapefile and convert it to GeoJSON format\n",
    "    geoms = [mapping(geometry) for geometry in shapefile.geometry]\n",
    "\n",
    "    # Crop the GeoTIFF using the mask function\n",
    "    dem, out_transform = mask(src, geoms, crop=True)\n",
    "\n",
    "# Update metadata for the new cropped GeoTIFF\n",
    "out_meta.update({\n",
    "    \"driver\": \"GTiff\",\n",
    "    \"height\": dem.shape[1],\n",
    "    \"width\": dem.shape[2],\n",
    "    \"transform\": out_transform\n",
    "})\n",
    "\n",
    "# path = \"cropped_geotiff.tif\"\n",
    "# with rasterio.open(path, \"w\", **out_meta) as dest:\n",
    "#     dest.write(dem)"
   ]
  },
  {
   "cell_type": "markdown",
   "id": "f22b7d54-ecce-4c3d-adc1-5f050fcddaad",
   "metadata": {
    "tags": []
   },
   "source": [
    "# Side-Scanner Style Hillshade Calculation from Multibeam Data\n",
    "https://pro.arcgis.com/en/pro-app/latest/tool-reference/3d-analyst/how-hillshade-works.htm\n",
    "1. Calculate basic Multibeam derivatives:\n",
    "    - Loading Multibeam geotiff data\n",
    "    - Compute x and y gradients of the elevation grid\n",
    "    - Derive slope and aspect grids from gradients\n",
    "    <br><br>\n",
    "\n",
    "2. Calculating light source positions:\n",
    "    - Loading survey line shapefile\n",
    "    - Find distance and azimuth to the line for every multibeam cell\n",
    "    - Calculate light zenith based on distance to the line and source depth\n",
    "    <br><br>\n",
    "3. Calculate classic Hillshade with improved light source for every cell:\n",
    "<br>\n",
    "5. Save the Result"
   ]
  },
  {
   "cell_type": "code",
   "execution_count": 193,
   "id": "f69959a6-f4dd-444a-bce8-cdb01b7d9514",
   "metadata": {
    "tags": []
   },
   "outputs": [
    {
     "name": "stdout",
     "output_type": "stream",
     "text": [
      "2717 166\n"
     ]
    }
   ],
   "source": [
    "path = \"cropped_geotiff.tif\"\n",
    "with rasterio.open(path) as src:\n",
    "    transform = src.transform\n",
    "    width = src.width\n",
    "    height = src.height\n",
    "    meta = src.meta.copy()\n",
    "print(width, height)\n",
    "\n",
    "\n",
    "# Calculate pixel resolution in x and y directions\n",
    "x_res, y_res = transform[0], -transform[4]\n",
    "\n",
    "# Calculate gradients in x and y directions\n",
    "dzdx = sobel(dem, axis=1) / (8 * x_res)\n",
    "dzdy = sobel(dem, axis=0) / (8 * y_res)\n",
    "\n",
    "# Calculate slope in degrees\n",
    "slope = np.arctan(np.sqrt(dzdx**2 + dzdy**2)) \n",
    "\n",
    "# Calculate aspect in degrees\n",
    "aspect = np.arctan2(dzdy, -dzdx)\n",
    "aspect = np.where(aspect < 0, np.pi*2 + aspect, aspect)\n",
    "\n",
    "# Update metadata and save slope and aspect grids\n",
    "meta.update({\"dtype\": \"float32\", \"count\": 1})\n",
    "\n",
    "with rasterio.open(\"slope.tif\", \"w\", **meta) as dst:\n",
    "    dst.write(slope.astype(\"float32\"), [1])\n",
    "\n",
    "with rasterio.open(\"aspect.tif\", \"w\", **meta) as dst:\n",
    "    dst.write(aspect.astype(\"float32\"), [1])\n",
    "    "
   ]
  },
  {
   "cell_type": "code",
   "execution_count": 198,
   "id": "d617082f-9c0b-48ba-8192-f2ad420a5f38",
   "metadata": {
    "tags": []
   },
   "outputs": [
    {
     "data": {
      "text/plain": [
       "50.99807822031765"
      ]
     },
     "execution_count": 198,
     "metadata": {},
     "output_type": "execute_result"
    }
   ],
   "source": [
    "y_res"
   ]
  },
  {
   "cell_type": "code",
   "execution_count": 158,
   "id": "c526adce-a380-4a64-9979-c7c2ed8ceb42",
   "metadata": {
    "tags": []
   },
   "outputs": [],
   "source": [
    "# Load the polyline shapefile\n",
    "polyline_path = \"surv_line.shp\"\n",
    "polyline = gpd.read_file(polyline_path).geometry.iloc[0]  # Assume only one polyline\n",
    "\n",
    "\n",
    "#rasterize survey line\n",
    "line_mask = geometry_mask([mapping(polyline)], transform=transform, invert=True,\n",
    "                          out_shape=(height, width), all_touched=True).astype(np.uint8)\n",
    "\n",
    "\n",
    "#calculate distance to survey line\n",
    "survey_distance, indices = distance_transform_edt(1 - line_mask, return_indices=True)\n",
    "indices_x, indices_y = indices[1], indices[0]\n",
    "\n",
    "# Calculate coordinates of each grid cell center and nearest polyline cell\n",
    "cell_x, cell_y = np.meshgrid(\n",
    "    np.arange(width) * transform[0] + transform[2] + transform[0] / 2,\n",
    "    np.arange(height) * transform[4] + transform[5] + transform[4] / 2\n",
    ")\n",
    "nearest_x = indices_x * transform[0] + transform[2] + transform[0] / 2\n",
    "nearest_y = indices_y * transform[4] + transform[5] + transform[4] / 2\n",
    "\n",
    "# Calculate azimuth in degrees from each cell to its nearest point on the line\n",
    "dx = nearest_x - cell_x\n",
    "dy = nearest_y - cell_y\n",
    "azimuth = np.arctan2(dx, dy) \n",
    "\n",
    "\n",
    "path = \"azimuth.tif\"\n",
    "with rasterio.open(path, \"w\", **out_meta) as dest:\n",
    "    dest.write(np.array([azimuth]))\n"
   ]
  },
  {
   "cell_type": "code",
   "execution_count": 168,
   "id": "4655c723-f4ad-41c3-a6ff-d8e239471876",
   "metadata": {
    "tags": []
   },
   "outputs": [
    {
     "name": "stderr",
     "output_type": "stream",
     "text": [
      "ERROR: Could not find a version that satisfies the requirement terrainpy (from versions: none)\n",
      "ERROR: No matching distribution found for terrainpy\n"
     ]
    }
   ],
   "source": [
    "!pip install terrainpy"
   ]
  },
  {
   "cell_type": "code",
   "execution_count": null,
   "id": "dd875389-040b-4e84-bb9a-89b8eec4e753",
   "metadata": {},
   "outputs": [],
   "source": [
    "survey_depth = np.where(dem == -9999,-9999, 200)\n",
    "zenith = np.tan(survey_distance/survey_depth)\n",
    "\n",
    "with rasterio.open(\"zenith.tif\", \"w\", **meta) as dst:\n",
    "    dst.write(zenith.astype(\"float32\"), [1])"
   ]
  },
  {
   "cell_type": "code",
   "execution_count": 155,
   "id": "a5881300-6551-42d5-80ce-999b20e360fa",
   "metadata": {
    "tags": []
   },
   "outputs": [],
   "source": [
    "\n",
    "\n",
    "hillshade = 255.0 * ((np.cos(zenith) * np.cos(slope)) +  (np.sin(zenith) * np.sin(slope) * np.cos(azimuth - aspect)))\n",
    "\n",
    "path = \"hillshade.tif\"\n",
    "with rasterio.open(path, \"w\", **out_meta) as dest:\n",
    "    dest.write(hillshade)"
   ]
  }
 ],
 "metadata": {
  "kernelspec": {
   "display_name": "Python 3 (ipykernel)",
   "language": "python",
   "name": "python3"
  },
  "language_info": {
   "codemirror_mode": {
    "name": "ipython",
    "version": 3
   },
   "file_extension": ".py",
   "mimetype": "text/x-python",
   "name": "python",
   "nbconvert_exporter": "python",
   "pygments_lexer": "ipython3",
   "version": "3.12.5"
  }
 },
 "nbformat": 4,
 "nbformat_minor": 5
}
